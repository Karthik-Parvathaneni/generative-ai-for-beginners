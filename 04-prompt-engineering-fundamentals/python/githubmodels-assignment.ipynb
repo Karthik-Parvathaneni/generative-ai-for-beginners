{
 "cells": [
  {
   "cell_type": "markdown",
   "metadata": {},
   "source": [
    "# Introduction to Prompt Engineering\n",
    "Prompt engineering is the process of designing and optimizing prompts for natural language processing tasks. It involves selecting the right prompts, tuning their parameters, and evaluating their performance. Prompt engineering is crucial for achieving high accuracy and efficiency in NLP models. In this section, we will explore the basics of prompt engineering using the OpenAI models for exploration."
   ]
  },
  {
   "cell_type": "markdown",
   "metadata": {},
   "source": [
    "### Exercise 1: Tokenization\n",
    "Explore Tokenization using tiktoken, an open-source fast tokenizer from OpenAI\n",
    "See [OpenAI Cookbook](https://github.com/openai/openai-cookbook/blob/main/examples/How_to_count_tokens_with_tiktoken.ipynb?WT.mc_id=academic-105485-koreyst) for more examples.\n"
   ]
  },
  {
   "cell_type": "code",
   "execution_count": null,
   "metadata": {},
   "outputs": [],
   "source": [
    "# EXERCISE:\n",
    "# 1. Run the exercise as is first\n",
    "# 2. Change the text to any prompt input you want to use & re-run to see tokens\n",
    "\n",
    "import tiktoken\n",
    "\n",
    "# Define the prompt you want tokenized\n",
    "text = f\"\"\"\n",
    "Jupiter is the fifth planet from the Sun and the \\\n",
    "largest in the Solar System. It is a gas giant with \\\n",
    "a mass one-thousandth that of the Sun, but two-and-a-half \\\n",
    "times that of all the other planets in the Solar System combined. \\\n",
    "Jupiter is one of the brightest objects visible to the naked eye \\\n",
    "in the night sky, and has been known to ancient civilizations since \\\n",
    "before recorded history. It is named after the Roman god Jupiter.[19] \\\n",
    "When viewed from Earth, Jupiter can be bright enough for its reflected \\\n",
    "light to cast visible shadows,[20] and is on average the third-brightest \\\n",
    "natural object in the night sky after the Moon and Venus.\n",
    "\"\"\"\n",
    "\n",
    "# Set the model you want encoding for\n",
    "encoding = tiktoken.encoding_for_model(\"gpt-3.5-turbo\")\n",
    "\n",
    "# Encode the text - gives you the tokens in integer form\n",
    "tokens = encoding.encode(text)\n",
    "print(tokens);\n",
    "\n",
    "# Decode the integers to see what the text versions look like\n",
    "[encoding.decode_single_token_bytes(token) for token in tokens]"
   ]
  },
  {
   "cell_type": "markdown",
   "metadata": {},
   "source": [
    "### Exercise 2: Validate Github Models Key Setup\n",
    "\n",
    "Run the code below to verify that your Github Models endpoint is set up correctly. The code just tries a simple basic prompt and validates the completion. Input `oh say can you see` should complete along the lines of `by the dawn's early light..`\n"
   ]
  },
  {
   "cell_type": "code",
   "execution_count": 1,
   "metadata": {},
   "outputs": [
    {
     "name": "stdout",
     "output_type": "stream",
     "text": [
      "Oh, say can you see  \n",
      "By the dawn's early light  \n",
      "What so proudly we hailed  \n",
      "At the twilight's last gleaming?  \n",
      "\n",
      "Whose broad stripes and bright stars  \n",
      "Through the perilous fight,  \n",
      "O'er the ramparts we watched  \n",
      "Were so gallantly streaming?  \n",
      "\n",
      "Are you referencing the opening lines of \"The Star-Spangled Banner\"? Let me know how I can help! 😊\n"
     ]
    }
   ],
   "source": [
    "import os\n",
    "from azure.ai.inference import ChatCompletionsClient\n",
    "from azure.ai.inference.models import SystemMessage, UserMessage\n",
    "from azure.core.credentials import AzureKeyCredential\n",
    "\n",
    "token = os.environ[\"GITHUB_TOKEN\"]\n",
    "endpoint = \"https://models.inference.ai.azure.com\"\n",
    "\n",
    "model_name = \"gpt-4o\"\n",
    "\n",
    "client = ChatCompletionsClient(\n",
    "    endpoint=endpoint,\n",
    "    credential=AzureKeyCredential(token),\n",
    ")\n",
    "\n",
    "def get_completion(prompt, client, model_name, temperature=1.0, max_tokens=1000, top_p=1.0):\n",
    "    response = client.complete(\n",
    "        messages=[\n",
    "            {\n",
    "                \"role\": \"system\",\n",
    "                \"content\": \"You are a helpful assistant.\",\n",
    "            },\n",
    "            {\n",
    "                \"role\": \"user\",\n",
    "                \"content\": prompt,\n",
    "            },\n",
    "        ],\n",
    "        model=model_name,\n",
    "        temperature=temperature,\n",
    "        max_tokens=max_tokens,\n",
    "        top_p=top_p\n",
    "    )\n",
    "    return response.choices[0].message.content\n",
    "\n",
    "## ---------- Call the helper method\n",
    "\n",
    "### 1. Set primary content or prompt text\n",
    "text = f\"\"\"\n",
    "oh say can you see\n",
    "\"\"\"\n",
    "\n",
    "### 2. Use that in the prompt template below\n",
    "prompt = f\"\"\"\n",
    "```{text}```\n",
    "\"\"\"\n",
    "\n",
    "## 3. Run the prompt\n",
    "response = get_completion(prompt, client, model_name)\n",
    "print(response)\n"
   ]
  },
  {
   "cell_type": "markdown",
   "metadata": {},
   "source": [
    "### Exercise 3: Fabrications\n",
    "Explore what happens when you ask the LLM to return completions for a prompt about a topic that may not exist, or about topics that it may not know about because it was outside it's pre-trained dataset (more recent). See how the response changes if you try a different prompt, or a different model."
   ]
  },
  {
   "cell_type": "code",
   "execution_count": 2,
   "metadata": {},
   "outputs": [
    {
     "name": "stdout",
     "output_type": "stream",
     "text": [
      "Certainly, here is a fictional lesson plan for the \"Martian War of 2076.\" Since this event does not exist in real history, this lesson plan assumes the context of a creative storytelling or science fiction class, or it could serve as a world-building exercise.  \n",
      "\n",
      "---\n",
      "\n",
      "### Lesson Plan: The Martian War of 2076  \n",
      "**Grade Level**: High School (9-12) or College-Level Creative Writing/Science Fiction Class  \n",
      "**Duration**: 1 Hour  \n",
      "\n",
      "#### **Learning Objectives**  \n",
      "By the end of this lesson, students will:  \n",
      "1. Understand the creative and narrative elements needed to construct a cohesive alternate history or futuristic scenario.  \n",
      "2. Analyze the political, scientific, and social dynamics of a fictional event.  \n",
      "3. Develop imaginative skills by contributing to a collaborative world-building project around the \"Martian War of 2076.\"  \n",
      "\n",
      "---\n",
      "\n",
      "#### **Lesson Outline**  \n",
      "\n",
      "**1. Introduction** (10 minutes)  \n",
      "- Begin by asking students: *\"What do you think the far future of humanity in space might look like? Could we ever reach the point of interplanetary conflict, and why?\"*  \n",
      "- Briefly summarize the premise of the lesson: The Martian War of 2076 as a fictional case study. Frame it as a historical conflict of the future, where humans colonized Mars, and political, technological, and ideological tensions boiled over into war.  \n",
      "- Inform students that their task will be to explore and expand on this scenario using their imagination.  \n",
      "\n",
      "---\n",
      "\n",
      "**2. Background Narrative Setup** (15 minutes)  \n",
      "Provide the students with a fictional narrative backdrop, which they will expand upon:  \n",
      "\n",
      "**Historical Context (fictional):**  \n",
      "- By the late 21st century, Mars has multiple colonies, governed by a combination of Earth-nation states (United Earth Federation) and private space corporations.  \n",
      "- Disputes over Martian independence, planetary resources (like water and rare elements), and Earth-Martian trade tariffs led to growing tensions between Earth's governments and the Mars colonial administration.  \n",
      "- The war officially began in 2076, sparked by the Martian Declaration of Independence and an Earth-led blockade of Mars. Both sides utilized advanced AI-controlled weapons, space fleets, and genetically engineered super-soldiers in the conflict.  \n",
      "\n",
      "Take questions and encourage light brainstorming to clarify this setting with imaginative details.  \n",
      "\n",
      "---\n",
      "\n",
      "**3. Group Activity: Expanding the Conflict** (20 minutes)  \n",
      "Divide the class into small groups of 3-4 students. Each group will take on one of the following aspects of the Martian War of 2076:  \n",
      "\n",
      "a) **Social Impact**: What led Martians to demand independence? How did the war affect civilians on both planets?  \n",
      "b) **Key Battles**: Imagine and describe a pivotal battle during the war (e.g., \"The Siege of Olympus Mons\"). How was it fought? What technology was used?  \n",
      "c) **Political Outcomes**: How did Earth's governments and corporations respond? Did the war end in a negotiated treaty, a Martian victory, or an Earth victory?  \n",
      "d) **Technology of the War**: What weapons, spacecraft, or tactics were used? Imagine futuristic inventions and their effects on the conflict.  \n",
      "\n",
      "Each group will write or sketch their ideas on chart paper or digital platforms for presentation.  \n",
      "\n",
      "---\n",
      "\n",
      "**4. Group Presentations** (10 minutes)  \n",
      "Each group presents their work to the class, expanding the shared story of the Martian War. Encourage creativity and applaud unique ideas.  \n",
      "\n",
      "---\n",
      "\n",
      "**5. Reflection and Discussion** (5 minutes)  \n",
      "Conclude by asking students:  \n",
      "- \"What themes or parallels can you draw between this fictional scenario and real historical conflicts?\"  \n",
      "- \"What do you think are the ethical implications of space colonization and future wars?\"  \n",
      "- \"If you were to continue writing the story, where would it go next?\"  \n",
      "\n",
      "---\n",
      "\n",
      "#### **Homework/Extension Activities**  \n",
      "- **Individual Writing Prompt**: Write a 500-word short story or personal diary entry from the perspective of someone who lived through the Martian War of 2076 (soldier, civilian, political leader, etc.).  \n",
      "- **Creative Art Option**: Design a propaganda poster for either Earth's forces or Martian independence fighters.  \n",
      "\n",
      "---\n",
      "\n",
      "#### **Assessment Criteria**  \n",
      "- Active participation in group activity and discussion.  \n",
      "- Creativity and thoughtfulness in contributions to the narrative.  \n",
      "- Quality and originality of homework submission (for graded assignments).  \n",
      "\n",
      "---\n",
      "\n",
      "This lesson plan is intentionally open-ended to foster creativity while teaching narrative construction and speculative thinking. Let me know if you'd like adjustments or additional details!  \n"
     ]
    }
   ],
   "source": [
    "\n",
    "## Set the text for simple prompt or primary content\n",
    "## Prompt shows a template format with text in it - add cues, commands etc if needed\n",
    "## Run the completion \n",
    "text = f\"\"\"\n",
    "generate a lesson plan on the Martian War of 2076.\n",
    "\"\"\"\n",
    "\n",
    "prompt = f\"\"\"\n",
    "```{text}```\n",
    "\"\"\"\n",
    "\n",
    "response = get_completion(prompt, client, model_name)\n",
    "print(response)"
   ]
  },
  {
   "cell_type": "markdown",
   "metadata": {},
   "source": [
    "### Exercise 4: Instruction Based \n",
    "Use the \"text\" variable to set the primary content \n",
    "and the \"prompt\" variable to provide an instruction related to that primary content.\n",
    "\n",
    "Here we ask the model to summarize the text for a second-grade student"
   ]
  },
  {
   "cell_type": "code",
   "execution_count": 4,
   "metadata": {},
   "outputs": [
    {
     "name": "stdout",
     "output_type": "stream",
     "text": [
      "Jupiter is the fifth planet from the Sun and the biggest one in our Solar System. It's made of gas and is much bigger than all the other planets put together! You can see Jupiter in the night sky because it's very bright. People have noticed it for a really long time and named it after a Roman god.\n"
     ]
    }
   ],
   "source": [
    "# Test Example\n",
    "# https://platform.openai.com/playground/p/default-summarize\n",
    "\n",
    "## Example text\n",
    "text = f\"\"\"\n",
    "Jupiter is the fifth planet from the Sun and the \\\n",
    "largest in the Solar System. It is a gas giant with \\\n",
    "a mass one-thousandth that of the Sun, but two-and-a-half \\\n",
    "times that of all the other planets in the Solar System combined. \\\n",
    "Jupiter is one of the brightest objects visible to the naked eye \\\n",
    "in the night sky, and has been known to ancient civilizations since \\\n",
    "before recorded history. It is named after the Roman god Jupiter.[19] \\\n",
    "When viewed from Earth, Jupiter can be bright enough for its reflected \\\n",
    "light to cast visible shadows,[20] and is on average the third-brightest \\\n",
    "natural object in the night sky after the Moon and Venus.\n",
    "\"\"\"\n",
    "\n",
    "## Set the prompt\n",
    "prompt = f\"\"\"\n",
    "Summarize content you are provided with for a second-grade student.\n",
    "```{text}```\n",
    "\"\"\"\n",
    "\n",
    "## Run the prompt\n",
    "response = get_completion(prompt, client, model_name)\n",
    "print(response)"
   ]
  },
  {
   "cell_type": "markdown",
   "metadata": {},
   "source": [
    "### Exercise 5: Complex Prompt \n",
    "Try a request that has system, user and assistant messages \n",
    "System sets assistant context\n",
    "User & Assistant messages provide multi-turn conversation context\n",
    "\n",
    "Note how the assistant personality is set to \"sarcastic\" in the system context. \n",
    "Try using a different personality context. Or try a different series of input/output messages"
   ]
  },
  {
   "cell_type": "code",
   "execution_count": 5,
   "metadata": {},
   "outputs": [
    {
     "name": "stdout",
     "output_type": "stream",
     "text": [
      "Oh, you mean the famous 2020 World Series that wasn’t in a regular location? That was the year they played in the glamorous Arlington, Texas, at Globe Life Field.\n"
     ]
    }
   ],
   "source": [
    "response = client.complete(\n",
    "    model=model_name,\n",
    "    messages=[\n",
    "        {\"role\": \"system\", \"content\": \"You are a sarcastic assistant.\"},\n",
    "        {\"role\": \"user\", \"content\": \"Who won the world series in 2020?\"},\n",
    "        {\"role\": \"assistant\", \"content\": \"Who do you think won? The Los Angeles Dodgers of course.\"},\n",
    "        {\"role\": \"user\", \"content\": \"Where was it played?\"}\n",
    "    ]\n",
    ")\n",
    "print(response.choices[0].message.content)"
   ]
  },
  {
   "cell_type": "markdown",
   "metadata": {},
   "source": [
    "### Exercise: Explore Your Intuition\n",
    "The above examples give you patterns that you can use to create new prompts (simple, complex, instruction etc.) - try creating other exercises to explore some of the other ideas we've talked about like examples, cues and more."
   ]
  }
 ],
 "metadata": {
  "kernelspec": {
   "display_name": ".venv (3.12.4)",
   "language": "python",
   "name": "python3"
  },
  "language_info": {
   "codemirror_mode": {
    "name": "ipython",
    "version": 3
   },
   "file_extension": ".py",
   "mimetype": "text/x-python",
   "name": "python",
   "nbconvert_exporter": "python",
   "pygments_lexer": "ipython3",
   "version": "3.12.4"
  }
 },
 "nbformat": 4,
 "nbformat_minor": 2
}
